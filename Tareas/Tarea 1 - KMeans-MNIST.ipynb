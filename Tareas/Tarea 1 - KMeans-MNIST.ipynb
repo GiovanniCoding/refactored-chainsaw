{
 "cells": [
  {
   "cell_type": "code",
   "execution_count": 19,
   "id": "0c363743-a0c0-4c6e-bf94-1d32aee96b40",
   "metadata": {},
   "outputs": [],
   "source": [
    "from sklearn.datasets import load_digits"
   ]
  },
  {
   "cell_type": "code",
   "execution_count": 37,
   "id": "67e89f0a-aee4-48f4-96fc-9ef27d683592",
   "metadata": {},
   "outputs": [],
   "source": [
    "digits = load_digits()"
   ]
  },
  {
   "cell_type": "code",
   "execution_count": 38,
   "id": "9e5135bf-1214-4814-9fc1-3254b2977407",
   "metadata": {},
   "outputs": [
    {
     "name": "stdout",
     "output_type": "stream",
     "text": [
      "(1797, 64) (1797,)\n"
     ]
    }
   ],
   "source": [
    "data = digits.data # Vectores que representan los numeros del 0 al 9\n",
    "y_true = digits.target # Etiquetas de lo que representa el vector\n",
    "print(data.shape, y_true.shape)"
   ]
  },
  {
   "cell_type": "code",
   "execution_count": null,
   "id": "fec40877-79d2-41f1-ab90-7d6fe31d46d5",
   "metadata": {},
   "outputs": [],
   "source": [
    "# Separar datos entre entrenamiento y prueba\n",
    "# 80% Entrenamiento\n",
    "# 20% Prueba\n",
    "# Usar train_test_split\n",
    "# https://scikit-learn.org/stable/modules/generated/sklearn.model_selection.train_test_split.html"
   ]
  },
  {
   "cell_type": "code",
   "execution_count": null,
   "id": "de32b2ad-ed51-4dfb-99b2-b352b8660323",
   "metadata": {},
   "outputs": [],
   "source": [
    "# Entrenar el modelo con el 80% y probar con el 20% restante\n",
    "# Como medida de evaluación, usar: Exactitud y Precisión\n",
    "# Accuracy & Precision"
   ]
  },
  {
   "cell_type": "code",
   "execution_count": null,
   "id": "0ca4f5c3-b924-4765-9f93-e22bc1b6a376",
   "metadata": {},
   "outputs": [],
   "source": [
    "# El resultado final debe ser una función que reciba un\n",
    "# vector y me regrese que número representa"
   ]
  }
 ],
 "metadata": {
  "kernelspec": {
   "display_name": "Python 3 (ipykernel)",
   "language": "python",
   "name": "python3"
  },
  "language_info": {
   "codemirror_mode": {
    "name": "ipython",
    "version": 3
   },
   "file_extension": ".py",
   "mimetype": "text/x-python",
   "name": "python",
   "nbconvert_exporter": "python",
   "pygments_lexer": "ipython3",
   "version": "3.9.13"
  }
 },
 "nbformat": 4,
 "nbformat_minor": 5
}
