{
 "cells": [
  {
   "cell_type": "code",
   "execution_count": 19,
   "id": "0c363743-a0c0-4c6e-bf94-1d32aee96b40",
   "metadata": {},
   "outputs": [],
   "source": [
    "from sklearn.cluster import KMeans\n",
    "from sklearn.datasets import load_digits\n",
    "from sklearn.metrics import accuracy_score\n",
    "from sklearn.metrics import precision_score\n",
    "from sklearn.model_selection import train_test_split"
   ]
  },
  {
   "cell_type": "code",
   "execution_count": 38,
   "id": "9e5135bf-1214-4814-9fc1-3254b2977407",
   "metadata": {},
   "outputs": [
    {
     "name": "stdout",
     "output_type": "stream",
     "text": [
      "(1797, 64) (1797,)\n"
     ]
    }
   ],
   "source": [
    "digits = load_digits()\n",
    "data = digits.data # Vectores que representan los numeros del 0 al 9\n",
    "y_true = digits.target # Etiquetas de lo que representa el vector\n",
    "print(data.shape, y_true.shape)"
   ]
  },
  {
   "cell_type": "code",
   "execution_count": null,
   "id": "fec40877-79d2-41f1-ab90-7d6fe31d46d5",
   "metadata": {},
   "outputs": [],
   "source": [
    "# Separar datos entre entrenamiento y prueba\n",
    "# 80% Entrenamiento\n",
    "# 20% Prueba\n",
    "# Usar train_test_split\n",
    "# https://scikit-learn.org/stable/modules/generated/sklearn.model_selection.train_test_split.html\n",
    "\n",
    "X_train, X_test, y_train, y_test = train_test_split(\n",
    "    data,\n",
    "    y_true,\n",
    "    test_size=0.2,\n",
    "    random_state=42\n",
    ")\n",
    "print(X_train.shape, y_train.shape)"
   ]
  },
  {
   "cell_type": "code",
   "execution_count": null,
   "id": "de32b2ad-ed51-4dfb-99b2-b352b8660323",
   "metadata": {},
   "outputs": [],
   "source": [
    "# Entrenar el modelo con el 80% y probar con el 20% restante\n",
    "# Como medida de evaluación, usar: Exactitud y Precisión\n",
    "# Accuracy & Precision\n",
    "kmeans_model = KMeans(n_clusters=10)\n",
    "kmeans_model.fit(X_train)\n",
    "yt_predict = kmeans_model.predict(X_train)"
   ]
  },
  {
   "cell_type": "code",
   "execution_count": null,
   "id": "2fea1204",
   "metadata": {},
   "outputs": [],
   "source": [
    "# Tomen en cuenta que esto no necesariamente será el mismo para\n",
    "# una segunda ejecución, lo ideal sería que se encontrara alguna manera \n",
    "# automática\n",
    "dic_verdad = {\n",
    "    2: 0,\n",
    "    0: 1,\n",
    "    1: 2,\n",
    "    8: 3,\n",
    "    9: 4,\n",
    "    4: 5,\n",
    "    5: 6,\n",
    "    7: 7,\n",
    "    3: 8,\n",
    "    6: 9,\n",
    "}\n",
    "tem = {}\n",
    "for p, t in zip(yt_predict, y_train):\n",
    "    if t == 1:\n",
    "        if p in tem:\n",
    "            tem[p] += 1\n",
    "        else:\n",
    "            tem[p] = 1\n",
    "print(tem)"
   ]
  },
  {
   "cell_type": "code",
   "execution_count": null,
   "id": "ecdd3872",
   "metadata": {},
   "outputs": [],
   "source": [
    "y_predict = kmeans_model.predict(X_test)\n",
    "y_predict = [dic_verdad[i] for i in y_predict]\n",
    "print(accuracy_score(y_test, y_predict))\n",
    "print(precision_score(y_test, y_predict, average='weighted'))"
   ]
  },
  {
   "cell_type": "code",
   "execution_count": null,
   "id": "0ca4f5c3-b924-4765-9f93-e22bc1b6a376",
   "metadata": {},
   "outputs": [],
   "source": [
    "# El resultado final debe ser un objecto\n",
    "# En el objeto se guardarán los datos para el entrenamiento\n",
    "# Se usará un método para evaluar un conjunto de prueba\n",
    "# Objeto\n",
    "#  Atributos:\n",
    "#   - Conjunto de Entrenamiento\n",
    "#   - Etiquetas de Entrenamiento\n",
    "#  Métodos:\n",
    "#   - Fit (Para entrenar el modelo)\n",
    "#   - Asignar conjunto\n",
    "\n",
    "# Ejemplo de ejecución\n",
    "# \n",
    "# from barajas_class import MKmenas\n",
    "# modelo = MKmeans()\n",
    "# modelo.datos(data, y_true)\n",
    "# modelo.fit()\n",
    "# print(modelo.result())\n",
    "# # Accuraccy = 0.80132123\n",
    "# # Presicion = 0.82234235"
   ]
  }
 ],
 "metadata": {
  "kernelspec": {
   "display_name": "Python 3 (ipykernel)",
   "language": "python",
   "name": "python3"
  },
  "language_info": {
   "codemirror_mode": {
    "name": "ipython",
    "version": 3
   },
   "file_extension": ".py",
   "mimetype": "text/x-python",
   "name": "python",
   "nbconvert_exporter": "python",
   "pygments_lexer": "ipython3",
   "version": "3.9.13"
  }
 },
 "nbformat": 4,
 "nbformat_minor": 5
}
